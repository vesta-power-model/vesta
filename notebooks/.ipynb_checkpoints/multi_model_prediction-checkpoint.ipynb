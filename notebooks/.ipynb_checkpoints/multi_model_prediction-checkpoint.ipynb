{
 "cells": [
  {
   "cell_type": "code",
   "execution_count": 1,
   "id": "ebf6dd06",
   "metadata": {},
   "outputs": [],
   "source": [
    "import pandas as pd\n",
    "import numpy as np\n",
    "from xgboost import XGBRegressor\n",
    "import matplotlib.pyplot as plt\n",
    "from sklearn.linear_model import LinearRegression\n",
    "from sklearn.model_selection import train_test_split\n",
    "import tensorflow as tf"
   ]
  },
  {
   "cell_type": "markdown",
   "id": "c6540a72",
   "metadata": {},
   "source": [
    "**Faithful McCullough**"
   ]
  },
  {
   "cell_type": "code",
   "execution_count": null,
   "id": "d9573d85",
   "metadata": {},
   "outputs": [
    {
     "name": "stdout",
     "output_type": "stream",
     "text": [
      "Epoch 1/5\n"
     ]
    }
   ],
   "source": [
    "#Faithful McCullough Method\n",
    "df = pd.read_csv(f\"/home/jraskin3/vesta_csvs/32-probes-aligned-256-iters.csv\").fillna(-1)\n",
    "df = df[df.power <= 10**5]\n",
    "df = df.drop([col for col in df.columns if '__entry' in col], axis=1)\n",
    "df = df.drop([col for col in df.columns if '__return' in col], axis=1)\n",
    "df = df.drop([col for col in df.columns if '__begin' in col], axis=1)\n",
    "df = df.drop([col for col in df.columns if '__end' in col], axis=1)\n",
    "df[\"cpu_power\"] = (df[\"energy_component_2_power\"] + df[\"energy_component_5_power\"])\n",
    "df[\"memory_power\"] = (df[\"energy_component_0_power\"] + df[\"energy_component_3_power\"])\n",
    "#10 fastest benchmarks\n",
    "#df = df[(df.benchmark == 'scala-kmeans') | (df.benchmark == 'scrabble') | (df.benchmark == 'rx-scrabble') | (df.benchmark == 'rx-scrabble') | (df.benchmark == 'chi-square') | (df.benchmark == 'fop') | (df.benchmark == 'naive-bayes') | (df.benchmark == 'dec-tree') | (df.benchmark == 'luindex') | (df.benchmark == 'dotty') | (df.benchmark == 'zxing') | (df.benchmark == 'log-regression') | (df.benchmark == 'scala-stm-bench7') | (df.benchmark == 'gauss-mix')]\n",
    "train_bench = \"combined-benchmarks\"\n",
    "benchmarks = df.benchmark.unique()\n",
    "ratios = {}\n",
    "lr_ratios = {}\n",
    "tf.config.threading.set_inter_op_parallelism_threads(2304)\n",
    "nn_model = tf.keras.Sequential()\n",
    "nn_model.add(tf.keras.layers.Dense(50, activation=\"tanh\"))\n",
    "nn_model.add(tf.keras.layers.Dense(25, activation=\"tanh\"))\n",
    "#nn_model.add(tf.keras.layers.Dense(100, activation=\"tanh\"))\n",
    "#nn_model.add(tf.keras.layers.Dense(50, activation=\"tanh\"))\n",
    "#nn_model.add(tf.keras.layers.Dense(25, activation=\"tanh\"))\n",
    "nn_model.add(tf.keras.layers.Dense(1))\n",
    "nn_model.compile(optimizer=\"sgd\", loss='mse')\n",
    "\n",
    "\n",
    "for component in [\"power\"]:\n",
    "    dt_model = XGBRegressor(tree_method='gpu_hist', gpu_id=0)\n",
    "    \n",
    "    lr_model = LinearRegression()\n",
    "    \n",
    "    \n",
    "    events_train = pd.DataFrame()\n",
    "    events_test = {}\n",
    "    power_train = pd.DataFrame()\n",
    "    power_test = {}\n",
    "    df_train, df_test = train_test_split(df, test_size=.5)\n",
    "    events_train = df_train\n",
    "    power_train = df_train[component]\n",
    "\n",
    "    events_train = events_train.drop([\"iteration\",\"ts\",\"benchmark\",\"power\",\"cpu_power\",\"memory_power\"], axis=1)\n",
    "    events_train = events_train.drop([col for col in events_train.columns if 'energy_component' in col], axis=1)\n",
    "    \n",
    "    \n",
    "    for bench in benchmarks:\n",
    "        events_bench_test = df_test[df_test.benchmark == bench]\n",
    "        events_bench_test = events_bench_test.drop([\"iteration\",\"ts\",\"benchmark\",\"power\",\"cpu_power\",\"memory_power\"], axis=1)\n",
    "        events_bench_test = events_bench_test.drop([col for col in events_bench_test.columns if 'energy_component' in col], axis=1)\n",
    "        events_test[bench] =  events_bench_test\n",
    "        power_test[bench] = df_test[df_test.benchmark == bench][\"power\"]\n",
    "\n",
    "    dt_model.fit(events_train, power_train)\n",
    "    lr_model.fit(events_train, power_train)\n",
    "    nn_model.fit(tf.convert_to_tensor(events_train), tf.convert_to_tensor(power_train), epochs=5, batch_size=256)"
   ]
  },
  {
   "cell_type": "code",
   "execution_count": 40,
   "id": "12896437",
   "metadata": {},
   "outputs": [],
   "source": [
    "dt_model.save_model(\"/home/jraskin3/vesta_csvs/faithful_mccullough_xgb-model.json\")"
   ]
  },
  {
   "cell_type": "code",
   "execution_count": null,
   "id": "b4d2d588",
   "metadata": {},
   "outputs": [],
   "source": [
    "events_bench_test"
   ]
  },
  {
   "cell_type": "code",
   "execution_count": 41,
   "id": "7aaee516",
   "metadata": {},
   "outputs": [
    {
     "name": "stdout",
     "output_type": "stream",
     "text": [
      "1/1 [==============================] - 0s 66ms/step\n",
      "2/2 [==============================] - 0s 3ms/step\n",
      "5/5 [==============================] - 0s 2ms/step\n",
      "4/4 [==============================] - 0s 2ms/step\n",
      "7/7 [==============================] - 0s 2ms/step\n",
      "2/2 [==============================] - 0s 3ms/step\n",
      "1/1 [==============================] - 0s 27ms/step\n",
      "6/6 [==============================] - 0s 2ms/step\n",
      "4/4 [==============================] - 0s 2ms/step\n",
      "1/1 [==============================] - 0s 25ms/step\n",
      "14/14 [==============================] - 0s 2ms/step\n",
      "1/1 [==============================] - 0s 25ms/step\n",
      "1/1 [==============================] - 0s 24ms/step\n",
      "3/3 [==============================] - 0s 3ms/step\n",
      "14/14 [==============================] - 0s 2ms/step\n",
      "2/2 [==============================] - 0s 3ms/step\n",
      "2/2 [==============================] - 0s 3ms/step\n",
      "3/3 [==============================] - 0s 3ms/step\n",
      "8/8 [==============================] - 0s 2ms/step\n",
      "4/4 [==============================] - 0s 2ms/step\n",
      "11/11 [==============================] - 0s 2ms/step\n",
      "4/4 [==============================] - 0s 3ms/step\n",
      "1/1 [==============================] - 0s 25ms/step\n",
      "1/1 [==============================] - 0s 24ms/step\n",
      "7/7 [==============================] - 0s 2ms/step\n",
      "1/1 [==============================] - 0s 30ms/step\n",
      "1/1 [==============================] - 0s 30ms/step\n",
      "2/2 [==============================] - 0s 3ms/step\n",
      "1/1 [==============================] - 0s 30ms/step\n",
      "1/1 [==============================] - 0s 31ms/step\n",
      "20/20 [==============================] - 0s 2ms/step\n",
      "3/3 [==============================] - 0s 3ms/step\n",
      "1/1 [==============================] - 0s 27ms/step\n",
      "5/5 [==============================] - 0s 2ms/step\n",
      "1/1 [==============================] - 0s 28ms/step\n",
      "1/1 [==============================] - 0s 28ms/step\n",
      "2/2 [==============================] - 0s 4ms/step\n"
     ]
    }
   ],
   "source": [
    "count = 1\n",
    "with open(\"/home/jraskin3/vesta_csvs/32-probes-256-iters-faithful-McCullough-predictions.json\", \"w\") as fp:\n",
    "    fp.write(\"[\\n\")\n",
    "    for bench in benchmarks:\n",
    "        fp.write(\"    {\\n\")\n",
    "        fp.write(f'        \"benchmark\":\"{bench}\",\\n')\n",
    "        dt_prediction_energy = dt_model.predict(events_test[bench])\n",
    "        fp.write(f'        \"dt\":{dt_prediction_energy.tolist()},\\n')\n",
    "        lr_prediction_energy = lr_model.predict(events_test[bench])\n",
    "        fp.write(f'        \"lr\":{np.array(lr_prediction_energy).tolist()},\\n')\n",
    "        nn_prediction_energy = nn_model.predict(tf.convert_to_tensor(events_test[bench]), batch_size=256)\n",
    "        fp.write(f'        \"nn\":{np.concatenate(nn_prediction_energy, axis=0 ).tolist()},\\n')\n",
    "\n",
    "        real_energy = power_test[bench]\n",
    "        fp.write(f'    \"real\":{real_energy.tolist()}\\n')\n",
    "        if count != 37:\n",
    "            fp.write(\"    },\\n\")\n",
    "        else:\n",
    "            fp.write(\"    }\\n\")\n",
    "        count += 1\n",
    "    fp.write(\"]\")"
   ]
  },
  {
   "cell_type": "code",
   "execution_count": 90,
   "id": "6599e3ac",
   "metadata": {},
   "outputs": [],
   "source": [
    "means = pd.DataFrame(ratios, index=[0]).transpose().rename(columns={0:\"mean\"}).sort_index()\n",
    "means_lr = pd.DataFrame(lr_ratios, index=[0]).transpose().rename(columns={0:\"mean\"}).sort_index()"
   ]
  },
  {
   "cell_type": "code",
   "execution_count": 92,
   "id": "67351e7e",
   "metadata": {},
   "outputs": [
    {
     "data": {
      "text/html": [
       "<div>\n",
       "<style scoped>\n",
       "    .dataframe tbody tr th:only-of-type {\n",
       "        vertical-align: middle;\n",
       "    }\n",
       "\n",
       "    .dataframe tbody tr th {\n",
       "        vertical-align: top;\n",
       "    }\n",
       "\n",
       "    .dataframe thead th {\n",
       "        text-align: right;\n",
       "    }\n",
       "</style>\n",
       "<table border=\"1\" class=\"dataframe\">\n",
       "  <thead>\n",
       "    <tr style=\"text-align: right;\">\n",
       "      <th></th>\n",
       "      <th>mean</th>\n",
       "    </tr>\n",
       "  </thead>\n",
       "  <tbody>\n",
       "  </tbody>\n",
       "</table>\n",
       "</div>"
      ],
      "text/plain": [
       "Empty DataFrame\n",
       "Columns: [mean]\n",
       "Index: []"
      ]
     },
     "execution_count": 92,
     "metadata": {},
     "output_type": "execute_result"
    }
   ],
   "source": [
    "means"
   ]
  }
 ],
 "metadata": {
  "kernelspec": {
   "display_name": "Python 3 (ipykernel)",
   "language": "python",
   "name": "python3"
  },
  "language_info": {
   "codemirror_mode": {
    "name": "ipython",
    "version": 3
   },
   "file_extension": ".py",
   "mimetype": "text/x-python",
   "name": "python",
   "nbconvert_exporter": "python",
   "pygments_lexer": "ipython3",
   "version": "3.8.10"
  }
 },
 "nbformat": 4,
 "nbformat_minor": 5
}
