{
 "cells": [
  {
   "cell_type": "markdown",
   "id": "23517249",
   "metadata": {},
   "source": [
    "**Does 10 predictions using XGBoost. Will spit out a csv of the ratios when run all the way through.**"
   ]
  },
  {
   "cell_type": "code",
   "execution_count": null,
   "id": "4eb1c4c8",
   "metadata": {},
   "outputs": [],
   "source": [
    "import pandas as pd\n",
    "import numpy as np\n",
    "from xgboost import XGBRegressor\n",
    "import matplotlib.pyplot as plt"
   ]
  },
  {
   "cell_type": "code",
   "execution_count": null,
   "id": "e591d9bd",
   "metadata": {
    "scrolled": true
   },
   "outputs": [],
   "source": [
    "#McCullough Method\n",
    "from sklearn.linear_model import LinearRegression\n",
    "from sklearn.model_selection import train_test_split\n",
    "df = pd.read_csv(f\"/home/jraskin3/vesta_csvs/32-probes-aligned-256-iters.csv\").fillna(-1)\n",
    "df = df[df.power <= 10**5]\n",
    "df = df.drop([col for col in df.columns if '__entry' in col], axis=1)\n",
    "df = df.drop([col for col in df.columns if '__return' in col], axis=1)\n",
    "df = df.drop([col for col in df.columns if '__begin' in col], axis=1)\n",
    "df = df.drop([col for col in df.columns if '__end' in col], axis=1)\n",
    "df[\"cpu_power\"] = (df[\"energy_component_2_power\"] + df[\"energy_component_5_power\"])\n",
    "df[\"memory_power\"] = (df[\"energy_component_0_power\"] + df[\"energy_component_3_power\"])\n",
    "train_bench = \"combined-benchmarks\"\n",
    "benchmarks = df.benchmark.unique()\n",
    "ratios = {}\n",
    "import tensorflow as tf\n",
    "\n",
    "\n",
    "for bench in benchmarks:\n",
    "    ratios[bench] = []\n",
    "for i in range(0,10):\n",
    "    for component in [\"power\"]:\n",
    "        #model = XGBRegressor(tree_method='gpu_hist', gpu_id=0)\n",
    "        #model = LinearRegression()\n",
    "#         tf.config.threading.set_inter_op_parallelism_threads(2304)\n",
    "#         nn_model = tf.keras.Sequential()\n",
    "#         nn_model.add(tf.keras.layers.Dense(25, activation=\"tanh\"))\n",
    "#         nn_model.add(tf.keras.layers.Dense(50, activation=\"tanh\"))\n",
    "#         nn_model.add(tf.keras.layers.Dense(100, activation=\"tanh\"))\n",
    "#         nn_model.add(tf.keras.layers.Dense(50, activation=\"tanh\"))\n",
    "#         nn_model.add(tf.keras.layers.Dense(25, activation=\"tanh\"))\n",
    "#         nn_model.add(tf.keras.layers.Dense(1))\n",
    "#         nn_model.compile(optimizer=\"sgd\", loss='mse')\n",
    "        events_train = pd.DataFrame()\n",
    "        events_test = {}\n",
    "        power_train = pd.DataFrame()\n",
    "        power_test = {}\n",
    "        for bench in benchmarks:\n",
    "            events_df_train = df[df.benchmark == bench]\n",
    "            power_df_train = events_df_train[component]\n",
    "\n",
    "            events_df_train = events_df_train.drop([\"iteration\",\"ts\",\"benchmark\",\"power\",\"cpu_power\",\"memory_power\"], axis=1)\n",
    "            events_df_train = events_df_train.drop([col for col in events_df_train.columns if 'energy_component' in col], axis=1)\n",
    "            if(len(events_df_train) <= 1):\n",
    "                events_train = pd.concat([events_train, events_df_train])\n",
    "                events_test[bench] = events_df_train\n",
    "                power_train = pd.concat([power_train, power_df_train])\n",
    "                power_test[bench] = power_df_train\n",
    "                continue        \n",
    "\n",
    "            events_train_b, events_test_b, power_train_b, power_test_b = train_test_split(events_df_train, power_df_train, test_size=.5)\n",
    "\n",
    "            events_train = pd.concat([events_train, events_train_b])\n",
    "            events_test[bench] = events_test_b\n",
    "\n",
    "            power_train = pd.concat([power_train, power_train_b])\n",
    "            power_test[bench] = power_test_b\n",
    "\n",
    "        model.fit(events_train, power_train)\n",
    "        #nn_model.fit(tf.convert_to_tensor(events_train), tf.convert_to_tensor(power_train), epochs=5, batch_size=256)\n",
    "        for bench in benchmarks:\n",
    "            prediction_energy = model.predict(events_test[bench])\n",
    "            #prediction_energy = nn_model.predict(tf.convert_to_tensor(events_test[bench]), batch_size=256)\n",
    "            real_energy = power_test[bench]\n",
    "            total_prediction_energy = prediction_energy.sum()\n",
    "            total_actual_energy = real_energy.sum()\n",
    "\n",
    "            ratio =  np.abs((total_actual_energy - total_prediction_energy) / total_actual_energy)\n",
    "            ratios[bench].append(ratio)"
   ]
  },
  {
   "cell_type": "code",
   "execution_count": null,
   "id": "094ebc54",
   "metadata": {},
   "outputs": [],
   "source": [
    "ratio_mean = pd.DataFrame(ratios).mean()\n",
    "ratio_mean_df = pd.DataFrame(ratio_mean).rename(columns={0:\"mean\"})\n",
    "ratio_mean_df[\"std\"] = pd.DataFrame(ratios).std()\n",
    "ratio_mean_df = ratio_mean_df.sort_index()\n",
    "ratio_mean_df = ratio_mean_df.reset_index(names=[\"benchmark\"])\n",
    "ratio_mean_df.to_csv(\"/home/jraskin3/vesta_csvs/32-probes-256-iters-LR-ratios.csv\", index=False)"
   ]
  },
  {
   "cell_type": "code",
   "execution_count": null,
   "id": "5c8c9ca3",
   "metadata": {},
   "outputs": [],
   "source": [
    "len(ratio_mean_df[ratio_mean_df[\"mean\"] <= .10])"
   ]
  },
  {
   "cell_type": "code",
   "execution_count": null,
   "id": "6e54fb0a",
   "metadata": {
    "scrolled": false
   },
   "outputs": [],
   "source": [
    "df = pd.read_csv(f\"/home/jraskin3/vesta_csvs/perf-hpcs-aligned-256-iters.csv\").fillna(-1)"
   ]
  },
  {
   "cell_type": "code",
   "execution_count": null,
   "id": "6011ed85",
   "metadata": {},
   "outputs": [],
   "source": [
    "df.groupby(\"benchmark\").count()[\"ts\"].sort_values()"
   ]
  },
  {
   "cell_type": "markdown",
   "id": "c15ba6a6",
   "metadata": {},
   "source": [
    "**All but one test**"
   ]
  },
  {
   "cell_type": "code",
   "execution_count": null,
   "id": "fba97a30",
   "metadata": {},
   "outputs": [],
   "source": [
    "benches = benchmarks"
   ]
  },
  {
   "cell_type": "code",
   "execution_count": null,
   "id": "b595a23b",
   "metadata": {},
   "outputs": [],
   "source": [
    "#McCullough Method\n",
    "from sklearn.linear_model import LinearRegression\n",
    "from sklearn.model_selection import train_test_split\n",
    "for the_bench in sorted(benches):\n",
    "    df = pd.read_csv(f\"/home/jraskin3/vesta_csvs/32-probes-aligned-256-iters.csv\").fillna(-1)\n",
    "    df = df[df.power <= 10**5]\n",
    "    df = df.drop([col for col in df.columns if '__entry' in col], axis=1)\n",
    "    df = df.drop([col for col in df.columns if '__return' in col], axis=1)\n",
    "    df = df.drop([col for col in df.columns if '__begin' in col], axis=1)\n",
    "    df = df.drop([col for col in df.columns if '__end' in col], axis=1)\n",
    "    df[\"cpu_power\"] = (df[\"energy_component_2_power\"] + df[\"energy_component_5_power\"])\n",
    "    df[\"memory_power\"] = (df[\"energy_component_0_power\"] + df[\"energy_component_3_power\"])\n",
    "    train_bench = \"combined-benchmarks\"\n",
    "    #the_bench = \"biojava\"\n",
    "    benchmarks = df.benchmark.unique()\n",
    "    benchmarks = set(benchmarks) - {the_bench}\n",
    "    #print(sorted(benchmarks))\n",
    "    ratios = {}\n",
    "    import tensorflow as tf\n",
    "\n",
    "\n",
    "    for bench in benchmarks:\n",
    "        ratios[bench] = []\n",
    "    for i in range(0,1):\n",
    "        for component in [\"power\"]:\n",
    "            model = XGBRegressor(tree_method='gpu_hist', gpu_id=0)\n",
    "            #model = LinearRegression()\n",
    "    #         tf.config.threading.set_inter_op_parallelism_threads(2304)\n",
    "    #         nn_model = tf.keras.Sequential()\n",
    "    #         nn_model.add(tf.keras.layers.Dense(25, activation=\"tanh\"))\n",
    "    #         nn_model.add(tf.keras.layers.Dense(50, activation=\"tanh\"))\n",
    "    #         nn_model.add(tf.keras.layers.Dense(100, activation=\"tanh\"))\n",
    "    #         nn_model.add(tf.keras.layers.Dense(50, activation=\"tanh\"))\n",
    "    #         nn_model.add(tf.keras.layers.Dense(25, activation=\"tanh\"))\n",
    "    #         nn_model.add(tf.keras.layers.Dense(1))\n",
    "    #         nn_model.compile(optimizer=\"sgd\", loss='mse')\n",
    "            events_train = pd.DataFrame()\n",
    "            events_test = {}\n",
    "            power_train = pd.DataFrame()\n",
    "            power_test = {}\n",
    "            for bench in benchmarks:\n",
    "                events_df_train = df[df.benchmark == bench]\n",
    "                power_df_train = events_df_train[component]\n",
    "\n",
    "                events_df_train = events_df_train.drop([\"iteration\",\"ts\",\"benchmark\",\"power\",\"cpu_power\",\"memory_power\"], axis=1)\n",
    "                events_df_train = events_df_train.drop([col for col in events_df_train.columns if 'energy_component' in col], axis=1)\n",
    "                if(len(events_df_train) <= 1):\n",
    "                    events_train = pd.concat([events_train, events_df_train])\n",
    "                    events_test[bench] = events_df_train\n",
    "                    power_train = pd.concat([power_train, power_df_train])\n",
    "                    power_test[bench] = power_df_train\n",
    "                    continue        \n",
    "\n",
    "                events_train_b, events_test_b, power_train_b, power_test_b = train_test_split(events_df_train, power_df_train, test_size=.1)\n",
    "\n",
    "                events_train = pd.concat([events_train, events_train_b])\n",
    "                events_test[bench] = events_test_b\n",
    "\n",
    "                power_train = pd.concat([power_train, power_train_b])\n",
    "                power_test[bench] = power_test_b\n",
    "\n",
    "            model.fit(events_train, power_train)\n",
    "            #nn_model.fit(tf.convert_to_tensor(events_train), tf.convert_to_tensor(power_train), epochs=5, batch_size=256)\n",
    "            for bench in benchmarks:\n",
    "                prediction_energy = model.predict(events_test[bench])\n",
    "                #prediction_energy = nn_model.predict(tf.convert_to_tensor(events_test[bench]), batch_size=256)\n",
    "                real_energy = power_test[bench]\n",
    "                total_prediction_energy = prediction_energy.sum()\n",
    "                total_actual_energy = real_energy.sum()\n",
    "\n",
    "                ratio =  np.abs((total_actual_energy - total_prediction_energy) / total_actual_energy)\n",
    "                ratios[bench].append(ratio)\n",
    "    bench_df = df[df.benchmark == the_bench]\n",
    "    events_df_test = bench_df \n",
    "    events_df_test = events_df_test.drop([\"iteration\",\"ts\",\"benchmark\",\"power\",\"cpu_power\",\"memory_power\"], axis=1)\n",
    "    events_df_test = events_df_test.drop([col for col in events_df_test.columns if 'energy_component' in col], axis=1)\n",
    "    prediction_energy = model.predict(events_df_test)\n",
    "    real_energy = bench_df[\"power\"]\n",
    "    total_prediction_energy = prediction_energy.sum()\n",
    "    total_actual_energy = real_energy.sum()\n",
    "\n",
    "    ratio =  np.abs((total_actual_energy - total_prediction_energy) / total_actual_energy)\n",
    "    print(the_bench, f\"{ratio * 100:.02f}%\")"
   ]
  },
  {
   "cell_type": "markdown",
   "id": "bbddcdab",
   "metadata": {},
   "source": [
    "**Real McCullough**"
   ]
  },
  {
   "cell_type": "code",
   "execution_count": null,
   "id": "bf322218",
   "metadata": {},
   "outputs": [],
   "source": [
    "import os\n",
    "os.environ['CUDA_VISIBLE_DEVICES'] = '-1'"
   ]
  },
  {
   "cell_type": "code",
   "execution_count": null,
   "id": "55e23803",
   "metadata": {},
   "outputs": [],
   "source": [
    "#Faithful McCullough Method\n",
    "from sklearn.linear_model import LinearRegression\n",
    "from sklearn.model_selection import train_test_split\n",
    "df = pd.read_csv(f\"/home/jraskin3/vesta_csvs/32-probes-aligned-256-iters.csv\").fillna(-1)\n",
    "df = df[df.power <= 10**5]\n",
    "df = df.drop([col for col in df.columns if '__entry' in col], axis=1)\n",
    "df = df.drop([col for col in df.columns if '__return' in col], axis=1)\n",
    "df = df.drop([col for col in df.columns if '__begin' in col], axis=1)\n",
    "df = df.drop([col for col in df.columns if '__end' in col], axis=1)\n",
    "df[\"cpu_power\"] = (df[\"energy_component_2_power\"] + df[\"energy_component_5_power\"])\n",
    "df[\"memory_power\"] = (df[\"energy_component_0_power\"] + df[\"energy_component_3_power\"])\n",
    "train_bench = \"combined-benchmarks\"\n",
    "benchmarks = df.benchmark.unique()\n",
    "ratios = {}\n",
    "import tensorflow as tf\n",
    "\n",
    "\n",
    "for bench in benchmarks:\n",
    "    ratios[bench] = []\n",
    "for i in range(0,10):\n",
    "    for component in [\"power\"]:\n",
    "        #model = XGBRegressor(tree_method='gpu_hist', gpu_id=0)\n",
    "        #model = LinearRegression()\n",
    "#         tf.config.threading.set_inter_op_parallelism_threads(2304)\n",
    "        nn_model = tf.keras.Sequential()\n",
    "        nn_model.add(tf.keras.layers.Dense(25, activation=\"tanh\"))\n",
    "        #nn_model.add(tf.keras.layers.Dense(50, activation=\"tanh\"))\n",
    "        #nn_model.add(tf.keras.layers.Dense(50, activation=\"tanh\"))\n",
    "        nn_model.add(tf.keras.layers.Dense(12, activation=\"tanh\"))\n",
    "        nn_model.add(tf.keras.layers.Dense(1))\n",
    "        nn_model.compile(optimizer=\"sgd\", loss='mse')\n",
    "        df_train, df_test = train_test_split(df, test_size=.5)\n",
    "        events_df_train = df_train\n",
    "        power_df_train = df_train[component]\n",
    "\n",
    "        events_df_train = events_df_train.drop([\"iteration\",\"ts\",\"benchmark\",\"power\",\"cpu_power\",\"memory_power\"], axis=1)\n",
    "        events_df_train = events_df_train.drop([col for col in events_df_train.columns if 'energy_component' in col], axis=1)\n",
    "        #model.fit(events_df_train, power_df_train)\n",
    "        nn_model.fit(tf.convert_to_tensor(events_df_train), tf.convert_to_tensor(power_df_train), epochs=5, batch_size=256)\n",
    "        for bench in benchmarks:\n",
    "            events_test = df_test[df_test.benchmark == bench]\n",
    "            if len(events_test) == 0:\n",
    "                continue\n",
    "            events_test = events_test.drop([\"iteration\",\"ts\",\"benchmark\",\"power\",\"cpu_power\",\"memory_power\"], axis=1)\n",
    "            events_test = events_test.drop([col for col in events_test.columns if 'energy_component' in col], axis=1)\n",
    "            \n",
    "            #prediction_energy = model.predict(events_test)\n",
    "            prediction_energy = nn_model.predict(tf.convert_to_tensor(events_test), batch_size=256)\n",
    "            real_energy = df_test[df_test.benchmark == bench][\"power\"]\n",
    "            total_prediction_energy = prediction_energy.sum()\n",
    "            total_actual_energy = real_energy.sum()\n",
    "\n",
    "            ratio =  np.abs((total_actual_energy - total_prediction_energy) / total_actual_energy)\n",
    "            ratios[bench].append(ratio)"
   ]
  },
  {
   "cell_type": "code",
   "execution_count": null,
   "id": "76b367c3",
   "metadata": {},
   "outputs": [],
   "source": [
    "df = pd.read_csv(f\"/home/jraskin3/vesta_csvs/32-probes-aligned-256-iters.csv\").fillna(-1)\n",
    "events_test = df.drop([\"iteration\",\"ts\",\"benchmark\",\"power\"], axis=1)\n",
    "events_test = events_test.drop([col for col in events_test.columns if 'energy_component' in col], axis=1)\n",
    "events_test.columns"
   ]
  },
  {
   "cell_type": "code",
   "execution_count": null,
   "id": "6d45b815",
   "metadata": {},
   "outputs": [],
   "source": [
    "ratio_mean = pd.DataFrame(ratios).mean()\n",
    "ratio_mean_df = pd.DataFrame(ratio_mean).rename(columns={0:\"mean\"})\n",
    "ratio_mean_df[\"std\"] = pd.DataFrame(ratios).std()\n",
    "ratio_mean_df = ratio_mean_df.sort_index()\n",
    "ratio_mean_df = ratio_mean_df.reset_index(names=[\"benchmark\"])\n",
    "ratio_mean_df.to_csv(\"/home/jraskin3/vesta_csvs/NN-25-12-1-real-McCullough.csv\", index=False)"
   ]
  },
  {
   "cell_type": "markdown",
   "id": "fc3f6510",
   "metadata": {},
   "source": [
    "**Many NN Topology Permutations**"
   ]
  },
  {
   "cell_type": "code",
   "execution_count": null,
   "id": "520f3efc",
   "metadata": {},
   "outputs": [],
   "source": []
  },
  {
   "cell_type": "code",
   "execution_count": null,
   "id": "bba5f6ae",
   "metadata": {},
   "outputs": [],
   "source": [
    "#Faithful McCullough Method\n",
    "from sklearn.linear_model import LinearRegression\n",
    "from sklearn.model_selection import train_test_split\n",
    "df = pd.read_csv(f\"/home/jraskin3/vesta_csvs/32-probes-aligned-256-iters.csv\").fillna(-1)\n",
    "df = df[df.power <= 10**5]\n",
    "df = df.drop([col for col in df.columns if '__entry' in col], axis=1)\n",
    "df = df.drop([col for col in df.columns if '__return' in col], axis=1)\n",
    "df = df.drop([col for col in df.columns if '__begin' in col], axis=1)\n",
    "df = df.drop([col for col in df.columns if '__end' in col], axis=1)\n",
    "df[\"cpu_power\"] = (df[\"energy_component_2_power\"] + df[\"energy_component_5_power\"])\n",
    "df[\"memory_power\"] = (df[\"energy_component_0_power\"] + df[\"energy_component_3_power\"])\n",
    "train_bench = \"combined-benchmarks\"\n",
    "benchmarks = df.benchmark.unique()\n",
    "ratios = {}\n",
    "import tensorflow as tf\n",
    "\n",
    "\n",
    "import itertools\n",
    "top = [12,24,48]\n",
    "out = []\n",
    "for p in list(itertools.permutations(top, 2)):\n",
    "    for bench in benchmarks:\n",
    "        ratios[bench] = []\n",
    "    for i in range(0,10):\n",
    "        for component in [\"power\"]:\n",
    "            nn_model = tf.keras.Sequential()\n",
    "            nn_model.add(tf.keras.layers.Dense(24, activation=\"tanh\"))\n",
    "            nn_model.add(tf.keras.layers.Dense(p[0], activation=\"tanh\"))\n",
    "            nn_model.add(tf.keras.layers.Dense(p[1], activation=\"tanh\"))\n",
    "            nn_model.add(tf.keras.layers.Dense(1))\n",
    "            nn_model.compile(optimizer=\"sgd\", loss='mse')\n",
    "            df_train, df_test = train_test_split(df, test_size=.5)\n",
    "            events_df_train = df_train\n",
    "            power_df_train = df_train[component]\n",
    "\n",
    "            events_df_train = events_df_train.drop([\"iteration\",\"ts\",\"benchmark\",\"power\",\"cpu_power\",\"memory_power\"], axis=1)\n",
    "            events_df_train = events_df_train.drop([col for col in events_df_train.columns if 'energy_component' in col], axis=1)\n",
    "            #model.fit(events_df_train, power_df_train)\n",
    "            nn_model.fit(tf.convert_to_tensor(events_df_train), tf.convert_to_tensor(power_df_train), epochs=5, batch_size=256)\n",
    "            for bench in benchmarks:\n",
    "                events_test = df_test[df_test.benchmark == bench]\n",
    "                if len(events_test) == 0:\n",
    "                    continue\n",
    "                events_test = events_test.drop([\"iteration\",\"ts\",\"benchmark\",\"power\",\"cpu_power\",\"memory_power\"], axis=1)\n",
    "                events_test = events_test.drop([col for col in events_test.columns if 'energy_component' in col], axis=1)\n",
    "\n",
    "                #prediction_energy = model.predict(events_test)\n",
    "                prediction_energy = nn_model.predict(tf.convert_to_tensor(events_test), batch_size=256)\n",
    "                real_energy = df_test[df_test.benchmark == bench][\"power\"]\n",
    "                total_prediction_energy = prediction_energy.sum()\n",
    "                total_actual_energy = real_energy.sum()\n",
    "\n",
    "                ratio =  np.abs((total_actual_energy - total_prediction_energy) / total_actual_energy)\n",
    "                ratios[bench].append(ratio)\n",
    "    ratio_mean = pd.DataFrame(ratios).mean()\n",
    "    ratio_mean_df = pd.DataFrame(ratio_mean).rename(columns={0:\"mean\"})\n",
    "    ratio_mean_df[\"std\"] = pd.DataFrame(ratios).std()\n",
    "    ratio_mean_df = ratio_mean_df.sort_index()\n",
    "    ratio_mean_df = ratio_mean_df.reset_index(names=[\"benchmark\"])\n",
    "    out.append(f\"24-{p[0]}-{p[1]}-1,{ratio_mean_df['mean'].mean()},{ratio_mean_df['mean'].std()}\")"
   ]
  },
  {
   "cell_type": "code",
   "execution_count": null,
   "id": "af4aad5e",
   "metadata": {},
   "outputs": [],
   "source": [
    "for o in out:\n",
    "    print(o)"
   ]
  },
  {
   "cell_type": "markdown",
   "id": "a2b10080",
   "metadata": {},
   "source": [
    "**Testing Large Size Benchmarks**"
   ]
  },
  {
   "cell_type": "code",
   "execution_count": null,
   "id": "b7b303ab",
   "metadata": {},
   "outputs": [],
   "source": [
    "import pandas as pd\n",
    "import numpy as np\n",
    "from xgboost import XGBRegressor\n",
    "import matplotlib.pyplot as plt\n",
    "from sklearn.model_selection import train_test_split\n",
    "#dt_model = XGBRegressor(tree_method='gpu_hist', gpu_id=0)\n",
    "dt_model = model\n",
    "#dt_model.load_model(\"/home/jraskin3/vesta_csvs/xgboost_model_another_run.json\")\n",
    "extra_columns = pd.read_csv(\"/home/jraskin3/vesta_csvs/32-probes-aligned-256-iters.csv\")\n",
    "extra_columns = extra_columns.drop([col for col in extra_columns.columns if '__entry' in col], axis=1)\n",
    "extra_columns = extra_columns.drop([col for col in extra_columns.columns if '__return' in col], axis=1)\n",
    "extra_columns = extra_columns.drop([col for col in extra_columns.columns if '__begin' in col], axis=1)\n",
    "extra_columns = extra_columns.drop([col for col in extra_columns.columns if '__end' in col], axis=1)\n",
    "extra_columns = extra_columns.drop([\"iteration\",\"ts\",\"benchmark\",\"power\"], axis=1)\n",
    "extra_columns = extra_columns.drop([col for col in extra_columns.columns if 'energy_component' in col], axis=1)"
   ]
  },
  {
   "cell_type": "code",
   "execution_count": null,
   "id": "1848f6d0",
   "metadata": {},
   "outputs": [],
   "source": [
    "df = pd.read_csv(\"/home/jraskin3/jolteon_link/timur_vpc/PLDI_large_dacapo.csv\")\n",
    "df = df[df.power <= 10**5]\n",
    "df = df.fillna(-1)"
   ]
  },
  {
   "cell_type": "code",
   "execution_count": null,
   "id": "43da3ca0",
   "metadata": {},
   "outputs": [],
   "source": [
    "for b in df.benchmark.unique():\n",
    "    df_b = df[df.benchmark == b]\n",
    "    ground_truth = df_b[\"power\"].sum()\n",
    "    events_df = df_b.drop([\"iteration\",\"ts\",\"benchmark\",\"power\"], axis=1)\n",
    "    events_df = events_df.drop([col for col in events_df.columns if 'energy_component' in col], axis=1)\n",
    "    for e in (set(extra_columns.columns) - set(events_df.columns)):\n",
    "        events_df[e] = -1\n",
    "    events_df = events_df[extra_columns.columns]\n",
    "    total_prediction = dt_model.predict(events_df).sum()\n",
    "    error = abs((total_prediction - ground_truth)/ground_truth)\n",
    "    print(b, f\"{error*100:.02f}%\")"
   ]
  },
  {
   "cell_type": "code",
   "execution_count": null,
   "id": "61575d3f",
   "metadata": {},
   "outputs": [],
   "source": [
    "pmd = [1.08, .01, 2.77, 2.37, .22]\n",
    "h2 = [8.16, 7.94, 6.85, 6.86, 9.20]\n",
    "sunflow = [4.32, 4.16, 4.24, 4.64, 1.15]\n",
    "avrora = [12.61, 13.2, 13.11, 13.16, 12.75]\n",
    "batik = [2.77, 2.78, 2.57,5.63, 2.40]\n"
   ]
  },
  {
   "cell_type": "code",
   "execution_count": null,
   "id": "216bfc32",
   "metadata": {},
   "outputs": [],
   "source": [
    "pmd = np.array(pmd)\n",
    "h2 = np.array(h2)\n",
    "sunflow = np.array(sunflow)\n",
    "avrora = np.array(avrora)\n",
    "batik = np.array(batik)"
   ]
  },
  {
   "cell_type": "code",
   "execution_count": null,
   "id": "5a6cf8fb",
   "metadata": {},
   "outputs": [],
   "source": [
    "print(f'''\n",
    "    pmd = {pmd.std():.02f}, \n",
    "      h2 = {h2.std():.02f}, \n",
    "      sunflow = {sunflow.std():.02f}, \n",
    "      avrora = {avrora.std():.02f}, \n",
    "      batik = {batik.std():.02f}''')"
   ]
  },
  {
   "cell_type": "code",
   "execution_count": null,
   "id": "5dd44515",
   "metadata": {},
   "outputs": [],
   "source": []
  }
 ],
 "metadata": {
  "kernelspec": {
   "display_name": "Python 3 (ipykernel)",
   "language": "python",
   "name": "python3"
  },
  "language_info": {
   "codemirror_mode": {
    "name": "ipython",
    "version": 3
   },
   "file_extension": ".py",
   "mimetype": "text/x-python",
   "name": "python",
   "nbconvert_exporter": "python",
   "pygments_lexer": "ipython3",
   "version": "3.8.10"
  }
 },
 "nbformat": 4,
 "nbformat_minor": 5
}
